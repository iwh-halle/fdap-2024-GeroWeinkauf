{
 "cells": [
  {
   "cell_type": "markdown",
   "metadata": {},
   "source": [
    "# Scraper für WGgesucht - München\n",
    "\n",
    "Ausgangslink: https://www.wg-gesucht.de/wg-zimmer-in-Muenchen.90.0.1.0.html"
   ]
  },
  {
   "cell_type": "markdown",
   "metadata": {},
   "source": [
    "Bibliotheken installieren\n"
   ]
  },
  {
   "cell_type": "code",
   "execution_count": 37,
   "metadata": {},
   "outputs": [],
   "source": [
    "import requests\n",
    "from bs4 import BeautifulSoup\n",
    "import pandas as pd\n",
    "import re"
   ]
  },
  {
   "cell_type": "markdown",
   "metadata": {},
   "source": [
    "First part of the code gets all Announces in the specified pages (10) by URL and saves it to a list"
   ]
  },
  {
   "cell_type": "code",
   "execution_count": 27,
   "metadata": {},
   "outputs": [
    {
     "name": "stdout",
     "output_type": "stream",
     "text": [
      "['https://www.wg-gesucht.de/wg-zimmer-in-Muenchen-Sendling-Westpark.5982143.html', 'https://www.wg-gesucht.de/wg-zimmer-in-Muenchen-Aubing-Lochhausen-Langwied.11008050.html', 'https://www.wg-gesucht.de/wg-zimmer-in-Muenchen-Ramersdorf-Perlach.8186955.html', 'https://www.wg-gesucht.de/wg-zimmer-in-Muenchen-Schwabing.11004778.html', 'https://www.wg-gesucht.de/wg-zimmer-in-Muenchen-Obergiesing.6438177.html', 'https://www.wg-gesucht.de/wg-zimmer-in-Muenchen-Feldmoching-Hasenbergl.10938159.html', 'https://www.wg-gesucht.de/wg-zimmer-in-Muenchen-Ramersdorf-Perlach.10999464.html', 'https://www.wg-gesucht.de/wg-zimmer-in-Muenchen-Muenchen.11003209.html', 'https://www.wg-gesucht.de/wg-zimmer-in-Muenchen-Pasing.8775585.html', 'https://www.wg-gesucht.de/wg-zimmer-in-Muenchen-Neuhausen-Nymphenburg.11000273.html', 'https://www.wg-gesucht.de/wg-zimmer-in-Muenchen-Maxvorstadt.6892247.html', 'https://www.wg-gesucht.de/wg-zimmer-in-Muenchen-Au-Haidhausen.7650505.html', 'https://www.wg-gesucht.de/wg-zimmer-in-Muenchen-Ramersdorf-Perlach.10914656.html', 'https://www.wg-gesucht.de/wg-zimmer-in-Muenchen-Thalkirchen-Obersendling-Forstenried-Fuerstenried-.11002364.html', 'https://www.wg-gesucht.de/wg-zimmer-in-Muenchen-Obersendling.11007994.html', 'https://www.wg-gesucht.de/wg-zimmer-in-Muenchen-Maxvorstadt.10965496.html', 'https://www.wg-gesucht.de/wg-zimmer-in-Muenchen-Schwabing-West.9577983.html', 'https://www.wg-gesucht.de/wg-zimmer-in-Muenchen-Laim.10913363.html', 'https://www.wg-gesucht.de/wg-zimmer-in-Muenchen-Maxvorstadt.10156290.html', 'https://www.wg-gesucht.de/wg-zimmer-in-Muenchen-Maxvorstadt.11007995.html', 'https://www.wg-gesucht.de/wg-zimmer-in-Muenchen.10991337.html', 'https://www.wg-gesucht.de/wg-zimmer-in-Muenchen.10952052.html', 'https://www.wg-gesucht.de/wg-zimmer-in-Muenchen-Feldmoching-Hasenbergl.9754626.html', 'https://www.wg-gesucht.de/wg-zimmer-in-Muenchen-Laim.10986554.html', 'https://www.wg-gesucht.de/wg-zimmer-in-Muenchen-Schwabing.9873207.html', 'https://www.wg-gesucht.de/wg-zimmer-in-Muenchen-Moosach.10795254.html', 'https://www.wg-gesucht.de/wg-zimmer-in-Muenchen-Neuhausen-Nymphenburg.10960528.html', 'https://www.wg-gesucht.de/wg-zimmer-in-Muenchen-Ramersdorf-Perlach.10822398.html', 'https://www.wg-gesucht.de/wg-zimmer-in-Muenchen-Berg-am-Laim.10302913.html', 'https://www.wg-gesucht.de/wg-zimmer-in-Muenchen-Maxvorstadt.10070501.html', 'https://www.wg-gesucht.de/wg-zimmer-in-Muenchen-Neuhausen-Nymphenburg.10977593.html', 'https://www.wg-gesucht.de/wg-zimmer-in-Muenchen-Feldmoching-Hasenbergl.10953630.html', 'https://www.wg-gesucht.de/wg-zimmer-in-Muenchen-Milbertshofen-Am-Hart.9551191.html', 'https://www.wg-gesucht.de/wg-zimmer-in-Muenchen-Milbertshofen.9795186.html', 'https://www.wg-gesucht.de/wg-zimmer-in-Muenchen-Maxvorstadt.11007771.html', 'https://www.wg-gesucht.de/wg-zimmer-in-Muenchen-Freimann.10202496.html', 'https://www.wg-gesucht.de/wg-zimmer-in-Muenchen-Neuhausen-Nymphenburg.4146872.html', 'https://www.wg-gesucht.de/wg-zimmer-in-Muenchen-Maxvorstadt.9785235.html', 'https://www.wg-gesucht.de/wg-zimmer-in-Muenchen-Hadern.9328085.html', 'https://www.wg-gesucht.de/wg-zimmer-in-Muenchen-Maxvorstadt.11007833.html', 'https://www.wg-gesucht.de/wg-zimmer-in-Muenchen-Feldmoching-Hasenbergl.11007849.html', 'https://www.wg-gesucht.de/wg-zimmer-in-Muenchen-Milbertshofen-Am-Hart.10986802.html', 'https://www.wg-gesucht.de/wg-zimmer-in-Muenchen.10991337.html', 'https://www.wg-gesucht.de/wg-zimmer-in-Muenchen-Altstadt-Lehel.10946676.html', 'https://www.wg-gesucht.de/wg-zimmer-in-Muenchen-Bogenhausen.10994956.html', 'https://www.wg-gesucht.de/wg-zimmer-in-Muenchen-Milbertshofen-Am-Hart.8055863.html', 'https://www.wg-gesucht.de/wg-zimmer-in-Muenchen.10765977.html', 'https://www.wg-gesucht.de/wg-zimmer-in-Muenchen-Theresienhoehe.10971163.html', 'https://www.wg-gesucht.de/wg-zimmer-in-Muenchen-Hadern.10990244.html', 'https://www.wg-gesucht.de/wg-zimmer-in-Muenchen-Maxvorstadt.9206016.html', 'https://www.wg-gesucht.de/wg-zimmer-in-Muenchen-Maxvorstadt.9207654.html', 'https://www.wg-gesucht.de/wg-zimmer-in-Muenchen-Ramersdorf-Perlach.10992217.html', 'https://www.wg-gesucht.de/wg-zimmer-in-Muenchen-Ramersdorf-Perlach.9891105.html', 'https://www.wg-gesucht.de/wg-zimmer-in-Muenchen-Neuhausen-Nymphenburg.10979833.html', 'https://www.wg-gesucht.de/wg-zimmer-in-Muenchen-Feldmoching-Hasenbergl.11001914.html', 'https://www.wg-gesucht.de/wg-zimmer-in-Muenchen-80686.10982509.html', 'https://www.wg-gesucht.de/wg-zimmer-in-Muenchen-Schwabing-West.10985529.html', 'https://www.wg-gesucht.de/wg-zimmer-in-Muenchen-Muenchen.10170429.html', 'https://www.wg-gesucht.de/wg-zimmer-in-Muenchen-Milbertshofen-Am-Hart.9100979.html', 'https://www.wg-gesucht.de/wg-zimmer-in-Muenchen-Ramersdorf-Perlach.10952300.html', 'https://www.wg-gesucht.de/wg-zimmer-in-Muenchen-Neuhausen-Nymphenburg.10701509.html', 'https://www.wg-gesucht.de/wg-zimmer-in-Muenchen-Ramersdorf-Perlach.10971131.html', 'https://www.wg-gesucht.de/wg-zimmer-in-Muenchen-Aubing-Lochhausen-Langwied.11006128.html', 'https://www.wg-gesucht.de/wg-zimmer-in-Muenchen-Feldmoching-Hasenbergl.10979780.html', 'https://www.wg-gesucht.de/wg-zimmer-in-Muenchen.10994708.html', 'https://www.wg-gesucht.de/wg-zimmer-in-Muenchen-Altstadt-Lehel.10994711.html', 'https://www.wg-gesucht.de/wg-zimmer-in-Muenchen-Sendling.9980367.html', 'https://www.wg-gesucht.de/wg-zimmer-in-Muenchen.10984955.html', 'https://www.wg-gesucht.de/wg-zimmer-in-Muenchen-Altstadt-Lehel.9942421.html', 'https://www.wg-gesucht.de/wg-zimmer-in-Muenchen-Laim.10987260.html', 'https://www.wg-gesucht.de/wg-zimmer-in-Muenchen-Pasing-Obermenzing.10975433.html', 'https://www.wg-gesucht.de/wg-zimmer-in-Muenchen-Putzbrunn.11007767.html', 'https://www.wg-gesucht.de/wg-zimmer-in-Muenchen-Untergiesing-Harlaching.10653918.html', 'https://www.wg-gesucht.de/wg-zimmer-in-Muenchen-Allach-Untermenzing.10993371.html', 'https://www.wg-gesucht.de/wg-zimmer-in-Muenchen-Sendling.5096386.html', 'https://www.wg-gesucht.de/wg-zimmer-in-Muenchen-Hadern.6822959.html', 'https://www.wg-gesucht.de/wg-zimmer-in-Muenchen-Maxvorstadt.7898618.html', 'https://www.wg-gesucht.de/wg-zimmer-in-Muenchen-Maxvorstadt.11006746.html', 'https://www.wg-gesucht.de/wg-zimmer-in-Muenchen-Pasing-Obermenzing.9976093.html', 'https://www.wg-gesucht.de/wg-zimmer-in-Muenchen-Theresienhoehe.11007121.html', 'https://www.wg-gesucht.de/wg-zimmer-in-Muenchen-Maxvorstadt.9729252.html', 'https://www.wg-gesucht.de/wg-zimmer-in-Muenchen-Allach-Untermenzing.3832735.html', 'https://www.wg-gesucht.de/wg-zimmer-in-Muenchen-Neuhausen-Nymphenburg.2398594.html', 'https://www.wg-gesucht.de/wg-zimmer-in-Muenchen-Ramersdorf-Perlach.10974602.html', 'https://www.wg-gesucht.de/wg-zimmer-in-Muenchen-Hauptbahnhof.10990176.html', 'https://www.wg-gesucht.de/wg-zimmer-in-Muenchen.11005043.html', 'https://www.wg-gesucht.de/wg-zimmer-in-Muenchen-Altstadt-Lehel.10994710.html', 'https://www.wg-gesucht.de/wg-zimmer-in-Muenchen-Altstadt-Lehel.10994709.html', 'https://www.wg-gesucht.de/wg-zimmer-in-Muenchen-Moosach.4880504.html', 'https://www.wg-gesucht.de/wg-zimmer-in-Muenchen-Untergiesing-Harlaching.10950562.html', 'https://www.wg-gesucht.de/wg-zimmer-in-Muenchen-Pasing-Obermenzing.7969432.html', 'https://www.wg-gesucht.de/wg-zimmer-in-Muenchen-Schwabing-West.10742201.html', 'https://www.wg-gesucht.de/wg-zimmer-in-Muenchen-Pasing-Obermenzing.10760826.html', 'https://www.wg-gesucht.de/wg-zimmer-in-Muenchen-Pasing.10988111.html', 'https://www.wg-gesucht.de/wg-zimmer-in-Muenchen-Au-Haidhausen.3566080.html', 'https://www.wg-gesucht.de/wg-zimmer-in-Muenchen-Au-Haidhausen.7038988.html', 'https://www.wg-gesucht.de/wg-zimmer-in-Muenchen-Ludwigsvorstadt-Isarvorstadt.11004542.html', 'https://www.wg-gesucht.de/wg-zimmer-in-Muenchen-Sendling.10640824.html', 'https://www.wg-gesucht.de/wg-zimmer-in-Muenchen-Ramersdorf-Perlach.10935122.html', 'https://www.wg-gesucht.de/wg-zimmer-in-Muenchen-Feldmoching.1353392.html', 'https://www.wg-gesucht.de/wg-zimmer-in-Muenchen-Laim.10684942.html', 'https://www.wg-gesucht.de/wg-zimmer-in-Muenchen-Untermenzing.9079405.html', 'https://www.wg-gesucht.de/wg-zimmer-in-Muenchen-Allach-Untermenzing.7885803.html', 'https://www.wg-gesucht.de/wg-zimmer-in-Muenchen-Sendling.10994887.html', 'https://www.wg-gesucht.de/wg-zimmer-in-Muenchen-Pasing.11003117.html', 'https://www.wg-gesucht.de/wg-zimmer-in-Muenchen-Aubing-Lochhausen-Langwied.10461331.html', 'https://www.wg-gesucht.de/wg-zimmer-in-Muenchen-Feldmoching-Hasenbergl.10997396.html', 'https://www.wg-gesucht.de/wg-zimmer-in-Muenchen-Schwanthalerhoehe.6815311.html', 'https://www.wg-gesucht.de/wg-zimmer-in-Muenchen.10994708.html', 'https://www.wg-gesucht.de/wg-zimmer-in-Muenchen.10991337.html', 'https://www.wg-gesucht.de/wg-zimmer-in-Muenchen-Poing-Anzing.6580923.html', 'https://www.wg-gesucht.de/wg-zimmer-in-Muenchen-Schwabing-West.11003982.html', 'https://www.wg-gesucht.de/wg-zimmer-in-Muenchen-Laim.10889483.html', 'https://www.wg-gesucht.de/wg-zimmer-in-Muenchen-Untergiesing-Harlaching.10948440.html', 'https://www.wg-gesucht.de/wg-zimmer-in-Muenchen-Trudering-Riem.10141506.html', 'https://www.wg-gesucht.de/wg-zimmer-in-Muenchen-Obergiesing-Fasangarten.10915091.html', 'https://www.wg-gesucht.de/wg-zimmer-in-Muenchen-Allach-Untermenzing.5207000.html', 'https://www.wg-gesucht.de/wg-zimmer-in-Muenchen-Pasing-Obermenzing.10937972.html', 'https://www.wg-gesucht.de/wg-zimmer-in-Muenchen.10183627.html', 'https://www.wg-gesucht.de/wg-zimmer-in-Muenchen-Milbertshofen-Am-Hart.4772643.html', 'https://www.wg-gesucht.de/wg-zimmer-in-Muenchen-Hadern.10826021.html', 'https://www.wg-gesucht.de/wg-zimmer-in-Muenchen-Hadern.9804570.html', 'https://www.wg-gesucht.de/wg-zimmer-in-Muenchen-Pasing-Obermenzing.7373767.html', 'https://www.wg-gesucht.de/wg-zimmer-in-Muenchen-Muenchen-Neuried.9785094.html', 'https://www.wg-gesucht.de/wg-zimmer-in-Muenchen-Fasanerie.8363180.html', 'https://www.wg-gesucht.de/wg-zimmer-in-Muenchen.11005699.html', 'https://www.wg-gesucht.de/wg-zimmer-in-Muenchen-Berg-am-Laim.11005698.html', 'https://www.wg-gesucht.de/wg-zimmer-in-Muenchen.11005697.html', 'https://www.wg-gesucht.de/wg-zimmer-in-Muenchen.11005678.html', 'https://www.wg-gesucht.de/wg-zimmer-in-Muenchen-Altstadt-Lehel.11005676.html', 'https://www.wg-gesucht.de/wg-zimmer-in-Muenchen-Altstadt-Lehel.10994709.html', 'https://www.wg-gesucht.de/wg-zimmer-in-Muenchen-Sendling.10994715.html', 'https://www.wg-gesucht.de/wg-zimmer-in-Muenchen-Berg-am-Laim.11005674.html', 'https://www.wg-gesucht.de/wg-zimmer-in-Muenchen.11005673.html', 'https://www.wg-gesucht.de/wg-zimmer-in-Muenchen.11005671.html', 'https://www.wg-gesucht.de/wg-zimmer-in-Muenchen.11005670.html', 'https://www.wg-gesucht.de/wg-zimmer-in-Muenchen-Untergiesing-Harlaching.1368654.html', 'https://www.wg-gesucht.de/wg-zimmer-in-Muenchen-Hadern.11005665.html', 'https://www.wg-gesucht.de/wg-zimmer-in-Muenchen-Moosach.11005664.html', 'https://www.wg-gesucht.de/wg-zimmer-in-Muenchen-Muenchen.8823835.html', 'https://www.wg-gesucht.de/wg-zimmer-in-Muenchen-Bogenhausen.4938051.html', 'https://www.wg-gesucht.de/wg-zimmer-in-Muenchen-Neuhausen-Nymphenburg.9293943.html', 'https://www.wg-gesucht.de/wg-zimmer-in-Muenchen-Sendling-Westpark.10982895.html', 'https://www.wg-gesucht.de/wg-zimmer-in-Muenchen-blumenau.10999970.html', 'https://www.wg-gesucht.de/wg-zimmer-in-Muenchen-Germering.9321577.html', 'https://www.wg-gesucht.de/wg-zimmer-in-Muenchen-Maxvorstadt.11007578.html', 'https://www.wg-gesucht.de/wg-zimmer-in-Muenchen-Pasing-Obermenzing.9577951.html', 'https://www.wg-gesucht.de/wg-zimmer-in-Muenchen-Neuhausen-Nymphenburg.9666419.html', 'https://www.wg-gesucht.de/wg-zimmer-in-Muenchen-Berg-am-Laim.10942090.html', 'https://www.wg-gesucht.de/wg-zimmer-in-Muenchen-Schwabing-West.5050956.html', 'https://www.wg-gesucht.de/wg-zimmer-in-Muenchen-Berg-am-Laim.10694930.html', 'https://www.wg-gesucht.de/wg-zimmer-in-Muenchen-Muenchen.11007497.html', 'https://www.wg-gesucht.de/wg-zimmer-in-Muenchen-Altstadt-Lehel.11008015.html', 'https://www.wg-gesucht.de/wg-zimmer-in-Muenchen.10994708.html', 'https://www.wg-gesucht.de/wg-zimmer-in-Muenchen-Pasing-Obermenzing.11001562.html', 'https://www.wg-gesucht.de/wg-zimmer-in-Muenchen.10570983.html', 'https://www.wg-gesucht.de/wg-zimmer-in-Muenchen.11005500.html', 'https://www.wg-gesucht.de/wg-zimmer-in-Muenchen-Maxvorstadt.11007412.html', 'https://www.wg-gesucht.de/wg-zimmer-in-Muenchen-suedlich-von-Muenchen.6445046.html', 'https://www.wg-gesucht.de/wg-zimmer-in-Muenchen-Sendling-Westpark.10021141.html', 'https://www.wg-gesucht.de/wg-zimmer-in-Muenchen-Maxvorstadt.11005485.html', 'https://www.wg-gesucht.de/wg-zimmer-in-Muenchen-Trudering-Riem.10554309.html', 'https://www.wg-gesucht.de/wg-zimmer-in-Muenchen-Au-Haidhausen.11006026.html', 'https://www.wg-gesucht.de/wg-zimmer-in-Muenchen-Moosach.11007459.html', 'https://www.wg-gesucht.de/wg-zimmer-in-Muenchen-Schwanthalerhoehe.9663319.html', 'https://www.wg-gesucht.de/wg-zimmer-in-Muenchen-Maxvorstadt.11005484.html', 'https://www.wg-gesucht.de/wg-zimmer-in-Muenchen-Sendling-Westpark.11005248.html', 'https://www.wg-gesucht.de/wg-zimmer-in-Muenchen-Maxvorstadt.11007361.html', 'https://www.wg-gesucht.de/wg-zimmer-in-Muenchen-Hadern.11000601.html', 'https://www.wg-gesucht.de/wg-zimmer-in-Muenchen-Maxvorstadt.11005483.html', 'https://www.wg-gesucht.de/wg-zimmer-in-Muenchen-Schwabing-Freimann.10992938.html', 'https://www.wg-gesucht.de/wg-zimmer-in-Muenchen-Ramersdorf-Perlach.11007391.html', 'https://www.wg-gesucht.de/wg-zimmer-in-Muenchen-Maxvorstadt.9272407.html', 'https://www.wg-gesucht.de/wg-zimmer-in-Muenchen-Au-Haidhausen.10947589.html', 'https://www.wg-gesucht.de/wg-zimmer-in-Muenchen.10944315.html', 'https://www.wg-gesucht.de/wg-zimmer-in-Muenchen-Altstadt-Lehel.10994711.html']\n"
     ]
    }
   ],
   "source": [
    "page_amount = 10\n",
    "\n",
    "url_first_part = 'https://www.wg-gesucht.de/wg-zimmer-in-Muenchen.90.0.1.'\n",
    "url_second_part = '.html'                                                                       #complete url => first part + page_number + second part\n",
    "\n",
    "\n",
    "\n",
    "total_link_list = []\n",
    "\n",
    "for page_number in range(1,page_amount):\n",
    "\n",
    "    response = requests.get(url_first_part + str(page_number) + url_second_part)\n",
    "    soup = BeautifulSoup(response.text, 'html.parser')\n",
    "\n",
    "    relevant_page_content = soup.find(\"div\", attrs={'class': 'col-xs-12 col-md-8 col-md-push-4'})\n",
    "    links = relevant_page_content.find_all(\"a\", attrs={'class': 'detailansicht'})\n",
    "\n",
    "    even = True\n",
    "    for link in links[1:]:\n",
    "        intern_link = link.get(\"href\")\n",
    "        if even:\n",
    "            if \"sort_column\" not in intern_link:\n",
    "                total_link_list.append(\"https://www.wg-gesucht.de/\" + intern_link)\n",
    "            even = False\n",
    "        else:\n",
    "            even = True\n",
    "\n",
    "print(total_link_list)\n",
    "\n",
    "  \n"
   ]
  },
  {
   "cell_type": "code",
   "execution_count": 92,
   "metadata": {},
   "outputs": [
    {
     "name": "stdout",
     "output_type": "stream",
     "text": [
      "U6 - \"Westpark\" mit Balkon, sonnig, ruhig\n",
      "23m²\n",
      "840€\n",
      "750€\n",
      "90€\n",
      "n.a.\n",
      "1980€\n",
      "0€\n",
      "15.06.2024\n",
      "1 Stunde\n",
      "Treffauerstr. 38 81373 München Sendling-Westpark\n",
      "23m² Zimmer in 3er WG\n",
      "Wohnungsgröße: 80m²\n",
      "3er WG ( 2 Männer )\n",
      "Bewohneralter: 23 bis 35 Jahre\n",
      "Rauchen auf dem Balkon erlaubt\n",
      "Zweck-WG, Business-WG, Berufstätigen-WG, gemischte WG\n",
      "Sprache/n: Deutsch, Englisch, Arabisch, Hindi\n",
      "\n",
      "Geschlecht egal\n",
      "\n",
      "13\n"
     ]
    }
   ],
   "source": [
    "def get_page_content(URL):\n",
    "    response = requests.get(URL)\n",
    "    page_content = BeautifulSoup(response.text, 'html.parser')\n",
    "\n",
    "    title = re.sub(r'\\s+', ' ', page_content.find(\"h1\", attrs={'class': 'headline headline-detailed-view-title'}).text).strip()             # get title String\n",
    "    print(title)\n",
    "    \n",
    "    size = re.sub(r'\\s+', ' ', page_content.find_all(\"b\", attrs={'class': 'key_fact_value'})[0].text).strip()             # get size String\n",
    "    print(size)\n",
    "\n",
    "    price_total = re.sub(r'\\s+', ' ', page_content.find_all(\"b\", attrs={'class': 'key_fact_value'})[1].text).strip()             # get price_total String\n",
    "    print(price_total)\n",
    "\n",
    "    price = re.sub(r'\\s+', ' ', page_content.find_all(\"span\", attrs={'class': 'section_panel_value'})[0].text).strip()             # get price String\n",
    "    print(price)\n",
    "\n",
    "    extra_costs = re.sub(r'\\s+', ' ', page_content.find_all(\"span\", attrs={'class': 'section_panel_value'})[1].text).strip()             # get extra_costs String\n",
    "    print(extra_costs)\n",
    "\n",
    "    other_costs = re.sub(r'\\s+', ' ', page_content.find_all(\"span\", attrs={'class': 'section_panel_value'})[2].text).strip()             # get other_costs String\n",
    "    print(other_costs)\n",
    "\n",
    "    deposit = re.sub(r'\\s+', ' ', page_content.find_all(\"span\", attrs={'class': 'section_panel_value'})[3].text).strip()             # get deposit String\n",
    "    print(deposit)\n",
    "\n",
    "    redemption_agreement = re.sub(r'\\s+', ' ', page_content.find_all(\"span\", attrs={'class': 'section_panel_value'})[4].text).strip()             # get redemption_agreement String\n",
    "    print(redemption_agreement)\n",
    "\n",
    "    date_free = re.sub(r'\\s+', ' ', page_content.find_all(\"span\", attrs={'class': 'section_panel_value'})[5].text).strip()             # get date_free String\n",
    "    print(date_free)\n",
    "\n",
    "    online_since = re.sub(r'\\s+', ' ', page_content.find(\"b\", attrs={'class': 'noprint'}).text).strip()             # get online_since String\n",
    "    print(online_since)\n",
    "    \n",
    "    adress = re.sub(r'\\s+', ' ', page_content.find_all(\"span\", attrs={'class': 'section_panel_detail'})[5].text).strip()             # get adress String\n",
    "    print(adress)\n",
    "\n",
    "    details = \"\"\n",
    "    for detail in page_content.find_all(\"ul\", attrs={'class': 'pl15'})[0].find_all(\"span\", attrs={'class': 'section_panel_detail'}):              #get Details String\n",
    "        details += re.sub(r'\\s+', ' ', detail.text).strip() + '\\n'\n",
    "\n",
    "    print(details)\n",
    "    looking_for = \"\"\n",
    "    for looking_for_element in page_content.find_all(\"ul\", attrs={'class': 'pl15'})[1].find_all(\"span\", attrs={'class': 'section_panel_detail'}):              #get looking_for String\n",
    "        looking_for += re.sub(r'\\s+', ' ', looking_for_element.text).strip() + '\\n'\n",
    "\n",
    "    print(looking_for)\n",
    "\n",
    "    amount_of_icons = len(page_content.find(\"div\", attrs={'class': 'utility_icons'}).find_all(\"div\", attrs={'class': 'text-center'}))         # get amount_of_icons String\n",
    "    print(amount_of_icons)\n",
    "\n",
    "\n",
    "    page_content_dict = {}\n",
    "\n",
    "get_page_content(total_link_list[0])"
   ]
  }
 ],
 "metadata": {
  "kernelspec": {
   "display_name": "base",
   "language": "python",
   "name": "python3"
  },
  "language_info": {
   "codemirror_mode": {
    "name": "ipython",
    "version": 3
   },
   "file_extension": ".py",
   "mimetype": "text/x-python",
   "name": "python",
   "nbconvert_exporter": "python",
   "pygments_lexer": "ipython3",
   "version": "3.11.7"
  }
 },
 "nbformat": 4,
 "nbformat_minor": 2
}
