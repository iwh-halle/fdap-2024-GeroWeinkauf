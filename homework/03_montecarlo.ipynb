{
 "cells": [
  {
   "attachments": {},
   "cell_type": "markdown",
   "metadata": {},
   "source": [
    "![head.png](https://github.com/iwh-halle/FinancialDataAnalytics/blob/master/figures/head.jpg?raw=1)\n",
    "\n",
    "# Financial Data Analytics in Python\n",
    "\n",
    "**Prof. Dr. Fabian Woebbeking**</br>\n",
    "Assistant Professor of Financial Economics\n",
    "\n",
    "IWH - Leibniz Institute for Economic Research</br>\n",
    "MLU - Martin Luther University Halle-Wittenberg\n",
    "\n",
    "fabian.woebbeking@iwh-halle.de"
   ]
  },
  {
   "attachments": {},
   "cell_type": "markdown",
   "metadata": {},
   "source": [
    "# Homework\n",
    "\n",
    "You will need a Git/GitHub repository to submit your course deliverables. Consult [**slides.ipynb**](https://github.com/iwh-halle/FinancialDataAnalytics) for help with the tasks below! If you need further assistance, do not hesitate to open a Q&A at https://github.com/cafawo/FinancialDataAnalytics/discussions"
   ]
  },
  {
   "attachments": {},
   "cell_type": "markdown",
   "metadata": {},
   "source": [
    "### Task: \n",
    "\n",
    "The liquidity position of a firm measured in million is a **generalized Wiener process** with a drift of $0.1$ per month and a variance of $\\sigma^2 = 0.16$ per month. The initial cash position is $2.0$. Calculate:\n",
    "\n",
    "1. \tthe expected value and standard deviation in one, six and 12 months.\n",
    "2.\tWhat is the probability of a negative cash position in 6 and 12 months? "
   ]
  },
  {
   "cell_type": "code",
   "execution_count": 7,
   "metadata": {},
   "outputs": [
    {
     "name": "stdout",
     "output_type": "stream",
     "text": [
      "Month 1:\n",
      "\n",
      "expected value: 2.10\n",
      "standard deviation: 0.40\n",
      "\n",
      "Month 6:\n",
      "\n",
      "expected value: 2.60\n",
      "standard deviation: 0.98\n",
      "\n",
      "Month 12:\n",
      "\n",
      "expected value: 3.20\n",
      "standard deviation: 1.39\n",
      "\n",
      "The result for month 6 is a probability of negative cash of 0.40%\n",
      "The result for month 12 is a probability of negative cash of 1.05%\n"
     ]
    }
   ],
   "source": [
    "from scipy.stats import norm\n",
    "\n",
    "# Parameters\n",
    "drift_per_month = 0.1  \n",
    "variance_per_month = 0.16 \n",
    "initial_cash_position = 2  \n",
    "\n",
    "# Calculate standard deviation from the variance\n",
    "standard_deviation_per_month = variance_per_month**0.5\n",
    "\n",
    "# Time intervals in months for the calculations\n",
    "time_intervals = [1, 6, 12]\n",
    "\n",
    "results = []\n",
    "for months in time_intervals:\n",
    "    # Expected value of cash position at time point\n",
    "    expected_cash_position = drift_per_month * months + initial_cash_position\n",
    "    # Standard deviation of cash position at time point\n",
    "    cash_position_std_dev = standard_deviation_per_month * months**0.5\n",
    "    # Probability that cash position is negative at time point\n",
    "    probability_negative_cash = norm.cdf((0 - expected_cash_position) / cash_position_std_dev)\n",
    "    \n",
    "    # Storing results\n",
    "    results.append({\n",
    "        \"Expected Cash Position\": expected_cash_position,\n",
    "        \"Standard Deviation\": cash_position_std_dev,\n",
    "        \"Probability of Negative Cash\": probability_negative_cash\n",
    "    })\n",
    "\n",
    "\n",
    "#1 \n",
    "print_counter = 0\n",
    "for result in results:\n",
    "    print(f\"Month {time_intervals[print_counter]}:\\n\\nexpected value: {result['Expected Cash Position']:.2f}\\nstandard deviation: {result['Standard Deviation']:.2f}\\n\")\n",
    "    print_counter += 1\n",
    "\n",
    "#2\n",
    "print_counter = 0\n",
    "for result in results:\n",
    "    if print_counter == 0:          #skip month 1\n",
    "        print_counter += 1\n",
    "        continue\n",
    "    print(f\"The result for month {time_intervals[print_counter]} is a probability of negative cash of {result['Probability of Negative Cash'] * 100:.2f}%\")\n",
    "    print_counter += 1"
   ]
  },
  {
   "attachments": {},
   "cell_type": "markdown",
   "metadata": {},
   "source": [
    "### Task: \n",
    "\n",
    "The cash flow of a [call option](https://en.wikipedia.org/wiki/Call_option) with strike $K$ at maturity $T$ is given by\n",
    "\n",
    "$$\n",
    "max(S_T - K, 0) = (S_T - K)^+\n",
    "$$\n",
    "\n",
    "where $S_T$ is the price of the underlying at $T$. The price of the option under the [risk-neutral measure](https://en.wikipedia.org/wiki/Risk-neutral_measure) $\\mathbb{Q}$ is simply its discounted expected value\n",
    "$$\n",
    "\\mathbb{E}^\\mathbb{Q}[(S_T - K)^+] e^{-rT}.\n",
    "$$\n",
    "\n",
    "\n",
    "Calculate the price of the option, using:\n",
    "1. numerical integration and\n",
    "2. Monte carlo simulation.\n",
    "\n",
    "For you calculations, assume that todays price of the underlying is $S_0 = 220$, the strike is $K = 220$, volatility is $\\sigma = 0.98$, the risk free rate is $r = 10\\%$ (continuous) and maturity is one year. We further assume that the underlying $S$ follows a **Geometric Brownian motion**.\n",
    "\n",
    "Hint: The terminal stock price $S_T$, under the risk-neutral measure, follows a log-normal distribution with PDF\n",
    "\n",
    "$$f(x) = \\frac{1}{x s \\sqrt{2 \\pi}} \\exp\\left( -\\frac{(\\ln x - \\mu)^2}{2 s^2} \\right) $$\n",
    "\n",
    "where $\\mu = \\ln S_0 + (r-\\sigma^2 / 2)T$ and variance $s^2 = \\sigma^2 T$.\n"
   ]
  },
  {
   "cell_type": "code",
   "execution_count": 10,
   "metadata": {},
   "outputs": [
    {
     "name": "stdout",
     "output_type": "stream",
     "text": [
      "Estimated Call Option Price using numerical integration: 0.07\n",
      "Estimated Call Option Price using Monte Carlo Simulation: 89.12\n"
     ]
    }
   ],
   "source": [
    "import numpy as np                                              # Import numpy for numerical calculations\n",
    "from scipy.integrate import quad                                # Import quad for numerical integration\n",
    "import math                                                     # Import math for mathematical constants and functions\n",
    "\n",
    "S0 = 220                                                         # Initial stock price\n",
    "K = 220                                                          # Strike price\n",
    "T = 1                                                            # Time to maturity (1 year)\n",
    "r = 0.10                                                         # Risk-free rate\n",
    "sigma = 0.98                                                     # Volatility\n",
    "\n",
    "mu = np.log(S0) + (r - 0.5 * sigma**2) * T                       # Calculate mu \n",
    "s2 = sigma**2 * T                                           # Calculate s \n",
    "\n",
    "def integrand(x):\n",
    "    return (x - K) * np.exp(-0.5 * ((np.log(x) - mu)**2 / s2)) / (x * np.sqrt(s2) * np.sqrt(2 * math.pi))\n",
    "\n",
    "upper_bound = K + 10 * s2                                        # Set a high upper bound to capture tail\n",
    "expected_payoff, _ = quad(integrand, K, upper_bound)            # Use scipy's quad to integrate the payoff function\n",
    "\n",
    "\n",
    "call_price = np.exp(-r * T) * expected_payoff                   # Discount the expected payoff at the risk-free rate\n",
    "\n",
    "print(f\"Estimated Call Option Price using numerical integration: {call_price:.2f}\") # Output the estimated call price\n",
    "\n",
    "\n",
    "                                                                \n",
    "N = 100000                                                                      # Number of simulations\n",
    "\n",
    "np.random.seed(0)                                                               # Set random seed for reproducibility\n",
    "Z = np.random.standard_normal(N)                                                # Generate N standard normal random variables\n",
    "ST = S0 * np.exp((r - 0.5 * sigma**2) * T + sigma * np.sqrt(T) * Z)             # Calculate stock prices at T\n",
    "\n",
    "\n",
    "payoffs = np.maximum(ST - K, 0)                                                 # Calculate payoffs from the call option\n",
    "\n",
    "call_price = np.exp(-r * T) * np.mean(payoffs)                                  # Discount payoffs to present value and take average\n",
    "\n",
    "print(f\"Estimated Call Option Price using Monte Carlo Simulation: {call_price:.2f}\")  # Output the estimated call price"
   ]
  }
 ],
 "metadata": {
  "kernelspec": {
   "display_name": "Python 3 (ipykernel)",
   "language": "python",
   "name": "python3"
  },
  "language_info": {
   "codemirror_mode": {
    "name": "ipython",
    "version": 3
   },
   "file_extension": ".py",
   "mimetype": "text/x-python",
   "name": "python",
   "nbconvert_exporter": "python",
   "pygments_lexer": "ipython3",
   "version": "3.11.7"
  }
 },
 "nbformat": 4,
 "nbformat_minor": 2
}
